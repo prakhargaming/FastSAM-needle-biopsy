{
 "cells": [
  {
   "cell_type": "code",
   "execution_count": 1,
   "metadata": {},
   "outputs": [],
   "source": [
    "import numpy as np\n",
    "import networkx as nx\n",
    "import cv2\n",
    "from matplotlib import pyplot as plt"
   ]
  },
  {
   "cell_type": "code",
   "execution_count": 2,
   "metadata": {},
   "outputs": [],
   "source": [
    "\n",
    "def array_to_graph(arr):\n",
    "    # Create a graph\n",
    "    G = nx.Graph()\n",
    "    \n",
    "    rows, cols = arr.shape\n",
    "    \n",
    "    # Add nodes\n",
    "    for i in range(rows):\n",
    "        for j in range(cols):\n",
    "            if arr[i, j] == 1:\n",
    "                G.add_node((i, j))\n",
    "    \n",
    "    # Add edges\n",
    "    for i in range(rows):\n",
    "        for j in range(cols):\n",
    "            if arr[i, j] == 1:\n",
    "                # Check right neighbor\n",
    "                if j + 1 < cols and arr[i, j+1] == 1:\n",
    "                    G.add_edge((i, j), (i, j+1), weight=1)\n",
    "                \n",
    "                # Check bottom neighbor\n",
    "                if i + 1 < rows and arr[i+1, j] == 1:\n",
    "                    G.add_edge((i, j), (i+1, j), weight=1)\n",
    "    \n",
    "    return G"
   ]
  },
  {
   "cell_type": "code",
   "execution_count": 7,
   "metadata": {},
   "outputs": [],
   "source": [
    "def resize_image(image, dims):\n",
    "    print(dims)\n",
    "    if not isinstance(image, np.ndarray):\n",
    "        raise ValueError(\"Input must be a numpy array\")\n",
    "    \n",
    "    \n",
    "    resized_image = cv2.resize(image, (dims[0], dims[1]), interpolation=cv2.INTER_AREA)\n",
    "    \n",
    "    # Convert the resized image to grayscale if it's not already\n",
    "    if len(resized_image.shape) == 3:\n",
    "        grayscale_image = cv2.cvtColor(resized_image, cv2.COLOR_BGR2GRAY)\n",
    "    else:\n",
    "        grayscale_image = resized_image\n",
    "    \n",
    "    # Normalize the array to have values between 0 and 1\n",
    "    normalized_array = grayscale_image.astype(np.float32) / 255.0\n",
    "    \n",
    "    return normalized_array"
   ]
  },
  {
   "cell_type": "code",
   "execution_count": 10,
   "metadata": {},
   "outputs": [
    {
     "name": "stdout",
     "output_type": "stream",
     "text": [
      "(25, 25)\n"
     ]
    }
   ],
   "source": [
    "fire = cv2.imread(\"images/21548917.png\")\n",
    "fire = resize_image(fire, (25, 25))\n",
    "# bw, _, _ = cv2.split(fire)\n",
    "\n",
    "mask = np.asarray(bw == 255)\n",
    "maskII = np.asarray([[_el if _el != 255 else 1 for _el in _ar] for _ar in bw])\n",
    "\n",
    "\n",
    "graph = array_to_graph(maskII)\n",
    "tree = nx.minimum_spanning_tree(graph)"
   ]
  },
  {
   "cell_type": "code",
   "execution_count": 11,
   "metadata": {},
   "outputs": [
    {
     "data": {
      "image/png": "[encoded data removed]",
      "text/plain": [
       "<Figure size 640x480 with 1 Axes>"
      ]
     },
     "metadata": {},
     "output_type": "display_data"
    }
   ],
   "source": []
  },
  {
   "cell_type": "code",
   "execution_count": null,
   "metadata": {},
   "outputs": [],
   "source": [
    "# Example usage\n",
    "arr = np.array([\n",
    "    [1, 0, 1, 1],\n",
    "    [1, 1, 0, 1],\n",
    "    [0, 1, 1, 0]\n",
    "])\n",
    "\n",
    "graph = array_to_graph(arr)\n",
    "\n",
    "# Print some information about the graph\n",
    "print(f\"Number of nodes: {graph.number_of_nodes()}\")\n",
    "print(f\"Number of edges: {graph.number_of_edges()}\")\n",
    "print(\"Edges:\", list(graph.edges(data=True)))"
   ]
  }
 ],
 "metadata": {
  "kernelspec": {
   "display_name": "base",
   "language": "python",
   "name": "python3"
  },
  "language_info": {
   "codemirror_mode": {
    "name": "ipython",
    "version": 3
   },
   "file_extension": ".py",
   "mimetype": "text/x-python",
   "name": "python",
   "nbconvert_exporter": "python",
   "pygments_lexer": "ipython3",
   "version": "3.10.14"
  }
 },
 "nbformat": 4,
 "nbformat_minor": 2
}
